{
 "cells": [
  {
   "cell_type": "markdown",
   "metadata": {},
   "source": [
    "# Consonant-Vowel Patterns of Short English Words\n",
    "\n",
    "Have you ever wondered what are the possible [consonant (C) and vowel (V) patterns](https://www.spellzone.com/unit08/page5.cfm) of short words in the English language? Furthermore, with what frequency do these patterns occur? As an example, for four letter words, it is clear that the pattern **VVVV** is impossible and intuitively we would expect that the pattern **CVCC** (e.g. *blab*, *drew*, *shut*, *chew*, *walk*, etc.) is far more common than the pattern **VVVC** (e.g. *aeon* and *eaux* are the only possibilities).\n",
    "\n",
    "The aim of this notebook is to find out the answers to the above questions for short words from three to six characters in length. We will use words from [All Scrabble Words](http://www.allscrabblewords.com) as our corpus."
   ]
  },
  {
   "cell_type": "code",
   "execution_count": null,
   "metadata": {},
   "outputs": [],
   "source": [
    "from collections import Counter"
   ]
  },
  {
   "cell_type": "markdown",
   "metadata": {},
   "source": [
    "## Mapping Words to Consonant-Vowel Equivalents\n",
    "\n",
    "We need to read all the words from a file into a list, convert them to their consonant-vowel representations and then count the number of occurences of each pattern. The code below helps to accomplish this."
   ]
  },
  {
   "cell_type": "code",
   "execution_count": null,
   "metadata": {},
   "outputs": [],
   "source": [
    "def patterns_count(filePath):\n",
    "    words = _word_list(filePath)\n",
    "    patterns = Counter(_patterns(words)).most_common()\n",
    "    return patterns\n",
    "    \n",
    "\n",
    "def _patterns(words):\n",
    "    patterns = []\n",
    "    for word in words:\n",
    "        patterns.append(_pattern(word))\n",
    "        \n",
    "    assert(len(patterns) == len(words))\n",
    "    return patterns\n",
    "\n",
    "\n",
    "def _pattern(word):\n",
    "    word_lower = word.lower()\n",
    "    if not word_lower.isalpha():\n",
    "        raise ValueError(f'Word \"{word}\" does not consist of only alphabetic characters.')\n",
    "    \n",
    "    vowels = list('aeiou')\n",
    "    pattern = ''\n",
    "    for letter in word_lower:\n",
    "        if letter in vowels:\n",
    "            pattern += 'V'\n",
    "        else:\n",
    "            pattern += 'C'\n",
    "    \n",
    "    assert('C' in pattern or 'V' in pattern)\n",
    "    assert(len(pattern) == len(word))\n",
    "    return pattern\n",
    "\n",
    "\n",
    "def _word_list(filePath):\n",
    "    return [line.rstrip('\\n') for line in open(file)]"
   ]
  },
  {
   "cell_type": "markdown",
   "metadata": {},
   "source": [
    "## 3-Letter Words\n",
    "\n",
    "Let's take a look at the 3-letter words first."
   ]
  },
  {
   "cell_type": "code",
   "execution_count": null,
   "metadata": {},
   "outputs": [],
   "source": [
    "file = '../data/3-letter-words.txt'\n",
    "patterns = patterns_count(file)\n",
    "print(f'We have {len(patterns)} possible patterns from {2**3} theoretical possibilities:\\n')\n",
    "display(patterns)"
   ]
  },
  {
   "cell_type": "markdown",
   "metadata": {},
   "source": [
    "## 4-Letter Words\n",
    "\n",
    "Now let's take a look at the 4-letter words."
   ]
  },
  {
   "cell_type": "code",
   "execution_count": null,
   "metadata": {},
   "outputs": [],
   "source": [
    "file = '../data/4-letter-words.txt'\n",
    "patterns = patterns_count(file)\n",
    "print(f'We have {len(patterns)} possible patterns from {2**4} theoretical possibilities:\\n')\n",
    "display(patterns)"
   ]
  },
  {
   "cell_type": "markdown",
   "metadata": {},
   "source": [
    "## 5-Letter Words\n",
    "\n",
    "Now let's take a look at the 5-letter words."
   ]
  },
  {
   "cell_type": "code",
   "execution_count": null,
   "metadata": {},
   "outputs": [],
   "source": [
    "file = '../data/5-letter-words.txt'\n",
    "patterns = patterns_count(file)\n",
    "print(f'We have {len(patterns)} possible patterns from {2**5} theoretical possibilities:\\n')\n",
    "display(patterns)"
   ]
  },
  {
   "cell_type": "markdown",
   "metadata": {},
   "source": [
    "## 6-Letter Words\n",
    "\n",
    "Finally let's take a look at the 6-letter words."
   ]
  },
  {
   "cell_type": "code",
   "execution_count": null,
   "metadata": {},
   "outputs": [],
   "source": [
    "file = '../data/6-letter-words.txt'\n",
    "patterns = patterns_count(file)\n",
    "print(f'We have {len(patterns)} possible patterns from {2**6} theoretical possibilities:\\n')\n",
    "display(patterns)"
   ]
  }
 ],
 "metadata": {
  "kernelspec": {
   "display_name": "Python 3",
   "language": "python",
   "name": "python3"
  },
  "language_info": {
   "codemirror_mode": {
    "name": "ipython",
    "version": 3
   },
   "file_extension": ".py",
   "mimetype": "text/x-python",
   "name": "python",
   "nbconvert_exporter": "python",
   "pygments_lexer": "ipython3",
   "version": "3.7.3"
  }
 },
 "nbformat": 4,
 "nbformat_minor": 2
}
